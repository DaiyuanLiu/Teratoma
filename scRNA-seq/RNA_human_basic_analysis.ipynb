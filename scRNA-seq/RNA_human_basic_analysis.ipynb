{
 "cells": [
  {
   "cell_type": "code",
   "execution_count": null,
   "id": "820d3158-1668-41ec-a2d6-c54ae89dc045",
   "metadata": {},
   "outputs": [],
   "source": [
    "import numpy as np\n",
    "import pandas as pd\n",
    "import scanpy as sc\n",
    "import matplotlib.pyplot as pl\n",
    "from matplotlib import rcParams"
   ]
  },
  {
   "cell_type": "code",
   "execution_count": null,
   "id": "5282fe3c-c70a-486a-ad15-b06ef70a63fa",
   "metadata": {},
   "outputs": [],
   "source": [
    "sc.settings.verbosity = 3\n",
    "sc.settings.set_figure_params(dpi=300, facecolor='white')"
   ]
  },
  {
   "cell_type": "code",
   "execution_count": null,
   "id": "2dc47a2f-7202-4ef7-8e9f-9a320c602658",
   "metadata": {},
   "outputs": [],
   "source": [
    "adata = sc.read_h5ad(\"total_adata.h5ad\")"
   ]
  },
  {
   "cell_type": "code",
   "execution_count": null,
   "id": "3db501f9-6f93-4478-9cc1-cda7b2c0c851",
   "metadata": {},
   "outputs": [],
   "source": [
    "adata"
   ]
  },
  {
   "cell_type": "code",
   "execution_count": null,
   "id": "d11b4e40-34db-48fc-8576-90b2566217b8",
   "metadata": {},
   "outputs": [],
   "source": [
    "sc.tl.pca(adata, svd_solver='arpack')#tools "
   ]
  },
  {
   "cell_type": "code",
   "execution_count": null,
   "id": "1cc3d7d0-1e58-4a99-b0e2-c29e7df80a67",
   "metadata": {
    "scrolled": true,
    "tags": []
   },
   "outputs": [],
   "source": [
    "sc.pl.pca(adata)"
   ]
  },
  {
   "cell_type": "code",
   "execution_count": null,
   "id": "0add7b19-ab5d-4785-b024-bb073712b96d",
   "metadata": {},
   "outputs": [],
   "source": [
    "sc.pp.neighbors(adata, n_neighbors=15, n_pcs=35)"
   ]
  },
  {
   "cell_type": "code",
   "execution_count": null,
   "id": "90fcf2d9-3d21-4320-86d9-c9637b383860",
   "metadata": {},
   "outputs": [],
   "source": [
    "sc.tl.leiden(adata, resolution=1.6)"
   ]
  },
  {
   "cell_type": "code",
   "execution_count": null,
   "id": "5ca22278-20b0-4f10-aee3-66842c3e5e59",
   "metadata": {},
   "outputs": [],
   "source": [
    "sc.tl.umap(adata)"
   ]
  },
  {
   "cell_type": "code",
   "execution_count": null,
   "id": "0c0acfd4-5f74-4090-9360-f9970d62a13e",
   "metadata": {},
   "outputs": [],
   "source": [
    "adata.obs['leiden'].to_csv('leiden_35_1.6.csv')"
   ]
  },
  {
   "cell_type": "code",
   "execution_count": null,
   "id": "c12c6512-bcd2-48e3-8d01-43846a8379ab",
   "metadata": {
    "scrolled": true,
    "tags": []
   },
   "outputs": [],
   "source": [
    "adata.write('total_adata.h5ad')"
   ]
  },
  {
   "cell_type": "code",
   "execution_count": null,
   "id": "3c03385a-328b-47b3-85ae-afe62904d063",
   "metadata": {
    "tags": []
   },
   "outputs": [],
   "source": [
    "sc.pl.umap(adata, color='cell_type',legend_loc='on data',legend_fontweight='normal',legend_fontsize=4,\n",
    "          palette=['#d6bcc0', '#8dd593','#023fa5', '#c6dec7','#d33f6a',   '#d5eae7', '#8e063b',  '#9cded6','#f3e1eb', '#0fcfc0',\n",
    "                    '#8595e1','#f0b98d',  '#00a087',  '#bec1d4','#bb7784', '#b5bbe3', '#e07b91','#ead3c6',  '#ef9708',\n",
    "                   '#e6afb9','#f6c4e1'],save = 'umap_anno.pdf')"
   ]
  },
  {
   "cell_type": "code",
   "execution_count": null,
   "id": "b98588d0-7d45-429a-b867-21749decdd1b",
   "metadata": {
    "scrolled": true,
    "tags": []
   },
   "outputs": [],
   "source": [
    "sc.pl.umap(adata, color='group',legend_fontsize=5,palette='Set2',save='group.pdf')"
   ]
  }
 ],
 "metadata": {
  "kernelspec": {
   "display_name": "Python 3",
   "language": "python",
   "name": "python3"
  },
  "language_info": {
   "codemirror_mode": {
    "name": "ipython",
    "version": 3
   },
   "file_extension": ".py",
   "mimetype": "text/x-python",
   "name": "python",
   "nbconvert_exporter": "python",
   "pygments_lexer": "ipython3",
   "version": "3.8.8"
  }
 },
 "nbformat": 4,
 "nbformat_minor": 5
}
